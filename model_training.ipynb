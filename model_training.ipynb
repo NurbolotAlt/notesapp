{
  "nbformat": 4,
  "nbformat_minor": 0,
  "metadata": {
    "colab": {
      "provenance": [],
      "authorship_tag": "ABX9TyOZgzZQbM7jHZgHcdiZT0y5",
      "include_colab_link": true
    },
    "kernelspec": {
      "name": "python3",
      "display_name": "Python 3"
    },
    "language_info": {
      "name": "python"
    }
  },
  "cells": [
    {
      "cell_type": "markdown",
      "metadata": {
        "id": "view-in-github",
        "colab_type": "text"
      },
      "source": [
        "<a href=\"https://colab.research.google.com/github/NurbolotAlt/notesapp/blob/main/model_training.ipynb\" target=\"_parent\"><img src=\"https://colab.research.google.com/assets/colab-badge.svg\" alt=\"Open In Colab\"/></a>"
      ]
    },
    {
      "cell_type": "code",
      "execution_count": null,
      "metadata": {
        "colab": {
          "base_uri": "https://localhost:8080/"
        },
        "id": "0a0qj8p7h42O",
        "outputId": "81ecffc2-4fb0-4f81-8c88-d353065c7bda"
      },
      "outputs": [
        {
          "output_type": "stream",
          "name": "stdout",
          "text": [
            "Cloning into 'Bio_informatics_Final_project'...\n",
            "remote: Enumerating objects: 10374, done.\u001b[K\n",
            "remote: Counting objects:  33% (1/3)\u001b[K\rremote: Counting objects:  66% (2/3)\u001b[K\rremote: Counting objects: 100% (3/3)\u001b[K\rremote: Counting objects: 100% (3/3), done.\u001b[K\n",
            "remote: Compressing objects: 100% (3/3), done.\u001b[K\n",
            "remote: Total 10374 (delta 0), reused 0 (delta 0), pack-reused 10371 (from 1)\u001b[K\n",
            "Receiving objects: 100% (10374/10374), 88.56 MiB | 15.87 MiB/s, done.\n",
            "Resolving deltas: 100% (1243/1243), done.\n",
            "Updating files: 100% (10319/10319), done.\n",
            "/content/Bio_informatics_Final_project/Bio_informatics_Final_project\n"
          ]
        }
      ],
      "source": [
        "!git clone https://github.com/Hantz509/Bio_informatics_Final_project\n",
        "%cd Bio_informatics_Final_project"
      ]
    },
    {
      "cell_type": "markdown",
      "source": [
        "**Getting raw pssm files**"
      ],
      "metadata": {
        "id": "o5wHozmEQ1gx"
      }
    },
    {
      "cell_type": "code",
      "source": [
        "import os\n",
        "import numpy as np\n",
        "from tensorflow.keras.preprocessing.sequence import pad_sequences\n",
        "\n",
        "def parse_pssm_file(file_path, max_len = 200):\n",
        "    pssm_matrix = []\n",
        "    with open(file_path, 'r') as f:\n",
        "        lines = f.readlines()\n",
        "    for line in lines:\n",
        "        if line.strip() and line.strip()[0].isdigit():\n",
        "            parts = line.strip().split()\n",
        "            if len(parts) >= 22:\n",
        "                try:\n",
        "                    scores = [float(x) for x in parts[2:22]]\n",
        "                    if len(scores) == 20:\n",
        "                        pssm_matrix.append(scores)\n",
        "\n",
        "                    else:\n",
        "                        print(f\"Skipping line with wrong number of scores: {line.strip()}\")\n",
        "                except ValueError:\n",
        "                    print(f\"Skipping line with non-numeric entries: {line.strip()}\")\n",
        "            else:\n",
        "                print(f\"Skipping short line: {line.strip()}\")\n",
        "    if not pssm_matrix:\n",
        "        print(f\"Warning: Empty PSSM matrix for {file_path}\")\n",
        "        return np.zeros((1, 20))\n",
        "    return np.array(pssm_matrix)\n",
        "\n",
        "pssm_dir = \"pssm_outputs/\"\n",
        "pssm_files = [os.path.join(pssm_dir, f) for f in os.listdir(pssm_dir) if f.endswith(\".pssm\")]\n",
        "print(f\"Found {len(pssm_files)} PSSM files.\")\n",
        "\n",
        "X_matrices = []\n",
        "for file_path in pssm_files:\n",
        "\n",
        "    matrix = parse_pssm_file(file_path)\n",
        "    X_matrices.append(matrix)\n",
        "\n",
        "print(f\"Processed {len(X_matrices)} PSSM files.\")"
      ],
      "metadata": {
        "colab": {
          "base_uri": "https://localhost:8080/"
        },
        "id": "R64rMNMQli-5",
        "outputId": "98e4199d-773a-4f02-b7f0-056313060fdf"
      },
      "execution_count": null,
      "outputs": [
        {
          "output_type": "stream",
          "name": "stdout",
          "text": [
            "Found 1063 PSSM files.\n",
            "Skipping short line: 410     0.2670\n",
            "Skipping short line: 70\n",
            "Skipping short line: 70\n",
            "Skipping short line: 0   0   0   0   0   0   0   0   0   0   0   0  0.00     0.00\n",
            "Skipping short line: 70\n",
            "Skipping short line: 0.2670\n",
            "Skipping short line: 0.2670\n",
            "Skipping short line: 410     0.2670\n",
            "Skipping short line: 70\n",
            "Skipping short line: 70\n",
            "Skipping short line: 0.2670\n",
            "Skipping short line: 0.0410     0.2670\n",
            "Skipping short line: 0.2670\n",
            "Skipping short line: 0.1303     0.3153\n",
            "Skipping short line: 0.2670\n",
            "Skipping short line: 0.3187\n",
            "Skipping short line: 70\n",
            "Skipping short line: 0   0   0  0.75 0.00\n",
            "Skipping short line: 0.0410     0.2670\n",
            "Skipping short line: 0.2670\n",
            "Skipping short line: 0.2670\n",
            "Skipping short line: 70\n",
            "Skipping short line: 410     0.2670\n",
            "Skipping short line: 0   0   0   0   0   0   0   0   0   0   0   0   0   0  0.00     0.00\n",
            "Skipping short line: 0   0   0   0  14  0.35 0.02\n",
            "Skipping short line: 0   0  58  23   0   0   0   0   0   0   0   0  19  0.39 0.02\n",
            "Skipping short line: 0   0   0   0  0.00     0.00\n",
            "Skipping short line: 83\n",
            "Skipping short line: 70\n",
            "Skipping short line: 0   0   0   0   0   0   0   0  0.00     0.00\n",
            "Skipping short line: 70\n",
            "Skipping short line: 0.2670\n",
            "Skipping short line: 0.0410     0.2670\n",
            "Skipping short line: 70\n",
            "Skipping short line: 0.3109\n",
            "Skipping short line: 0.1291     0.3147\n",
            "Skipping short line: 410     0.2670\n",
            "Skipping short line: 0.00\n",
            "Skipping short line: 0.2670\n",
            "Skipping short line: 410     0.2670\n",
            "Skipping short line: 0   0   0  0.00     0.00\n",
            "Skipping short line: 70\n",
            "Skipping short line: 70\n",
            "Skipping short line: 0.0410     0.2670\n",
            "Skipping short line: 0.1303     0.3127\n",
            "Skipping short line: 0.0410     0.2670\n",
            "Skipping short line: 70\n",
            "Skipping short line: 04\n",
            "Skipping short line: 70\n",
            "Skipping short line: 0.2670\n",
            "Skipping short line: 410     0.2670\n",
            "Skipping short line: 15   0   0   0   0   0  45   0   0   0   0   0   0  41   0   0   0   0  0.43 0.01\n",
            "Skipping short line: 410     0.2670\n",
            "Skipping short line: 0.3101\n",
            "Skipping short line: 0   0   0   0   0   0   0   0   0   0   0   0   0   0  0.00     0.00\n",
            "Skipping short line: 0.2670\n",
            "Skipping short line: 0.2670\n",
            "Skipping short line: 70\n",
            "Skipping short line: 0.2670\n",
            "Skipping short line: 70\n",
            "Skipping short line: 0   0   0   0   0  21   0   0   0   0   0   0   0   0   0   0   0  0.70 0.03\n",
            "Skipping short line: 70\n",
            "Skipping short line: 0.2670\n",
            "Skipping short line: 70\n",
            "Skipping short line: 0.0410     0.2670\n",
            "Skipping short line: 70\n",
            "Skipping short line: 0.1336     0.3193\n",
            "Skipping short line: 0.2670\n",
            "Skipping short line: 70\n",
            "Skipping short line: 0.2670\n",
            "Skipping short line: 0   0   0   0 100   0   0   0   0  0.46 0.01\n",
            "Skipping short line: 0.2670\n",
            "Skipping short line: 70\n",
            "Skipping short line: 0.2670\n",
            "Skipping short line: 0.0410     0.2670\n",
            "Skipping short line: 0.2670\n",
            "Skipping short line: 70\n",
            "Skipping short line: 0.2670\n",
            "Skipping short line: 0   0   0   0   0   0   0   0   0  0.00     0.00\n",
            "Skipping short line: 306     0.3149\n",
            "Skipping short line: 0.2670\n",
            "Processed 1063 PSSM files.\n"
          ]
        }
      ]
    },
    {
      "cell_type": "markdown",
      "source": [
        "**Padding**"
      ],
      "metadata": {
        "id": "bL-g2XAXQrBY"
      }
    },
    {
      "cell_type": "code",
      "source": [
        "from tensorflow.keras.preprocessing.sequence import pad_sequences\n",
        "\n",
        "max_len = max([m.shape[0] for m in X_matrices])\n",
        "X_padded = pad_sequences(X_matrices, maxlen=max_len, dtype='float32', padding='post', truncating='post')\n",
        "print(f\"Padded input shape: {X_padded.shape}\")"
      ],
      "metadata": {
        "colab": {
          "base_uri": "https://localhost:8080/"
        },
        "id": "fs5ej7AbuNpU",
        "outputId": "ae2d7bab-6fa1-4aa8-eb4a-9e826e8fb58b"
      },
      "execution_count": null,
      "outputs": [
        {
          "output_type": "stream",
          "name": "stdout",
          "text": [
            "Padded input shape: (1063, 4660, 20)\n"
          ]
        }
      ]
    },
    {
      "cell_type": "markdown",
      "source": [
        "**Getting labels (y)**"
      ],
      "metadata": {
        "id": "GxLktMNjQwrQ"
      }
    },
    {
      "cell_type": "code",
      "source": [
        "import os\n",
        "\n",
        "pssm_dir = \"pssm_outputs/\"\n",
        "pssm_files = [os.path.join(pssm_dir, f) for f in os.listdir(pssm_dir) if f.endswith(\".pssm\")]\n",
        "\n",
        "y = []\n",
        "for file_path in pssm_files:\n",
        "    file_name = os.path.basename(file_path).lower()\n",
        "    if 'snare' in file_name:\n",
        "        label = 1\n",
        "    elif 'non' in file_name:\n",
        "        label = 0\n",
        "    else:\n",
        "        raise ValueError(f\"Cannot determine label for file: {file_name}\")\n",
        "    y.append(label)\n",
        "\n",
        "print(f\"Labels generated: {sum(y)} SNARE, {len(y)-sum(y)} non-SNARE\")\n",
        "y = np.array(y)"
      ],
      "metadata": {
        "colab": {
          "base_uri": "https://localhost:8080/"
        },
        "id": "lUwJs015ySY9",
        "outputId": "a9176a4c-7f51-4a0f-9275-409c0473e9bc"
      },
      "execution_count": null,
      "outputs": [
        {
          "output_type": "stream",
          "name": "stdout",
          "text": [
            "Labels generated: 540 SNARE, 523 non-SNARE\n"
          ]
        }
      ]
    },
    {
      "cell_type": "markdown",
      "source": [
        "**SVM and KNN on raw pssm files (low accuracy) (can ignore)**"
      ],
      "metadata": {
        "id": "gnMFl2tNNZ5B"
      }
    },
    {
      "cell_type": "code",
      "source": [
        "from sklearn.model_selection import train_test_split\n",
        "from sklearn.svm import SVC\n",
        "from sklearn.neighbors import KNeighborsClassifier\n",
        "from sklearn.metrics import accuracy_score\n",
        "\n",
        "X_flat = X_padded.reshape((X_padded.shape[0], -1))\n",
        "\n",
        "X_train, X_test, y_train, y_test = train_test_split(X_flat, y, test_size=0.2, random_state=42)\n",
        "\n",
        "svm = SVC(kernel='linear')\n",
        "svm.fit(X_train, y_train)\n",
        "svm_preds = svm.predict(X_test)\n",
        "print(\"SVM Accuracy:\", accuracy_score(y_test, svm_preds))\n",
        "\n",
        "knn = KNeighborsClassifier(n_neighbors=3)\n",
        "knn.fit(X_train, y_train)\n",
        "knn_preds = knn.predict(X_test)\n",
        "print(\"kNN Accuracy:\", accuracy_score(y_test, knn_preds))"
      ],
      "metadata": {
        "colab": {
          "base_uri": "https://localhost:8080/"
        },
        "id": "z8qp6RKm6NbT",
        "outputId": "81f3ddbf-3cb7-48da-ed36-8517e4866000"
      },
      "execution_count": null,
      "outputs": [
        {
          "output_type": "stream",
          "name": "stdout",
          "text": [
            "SVM Accuracy: 0.8403755868544601\n",
            "kNN Accuracy: 0.7417840375586855\n"
          ]
        }
      ]
    },
    {
      "cell_type": "markdown",
      "source": [
        "**SVM and KNN on csv file**"
      ],
      "metadata": {
        "id": "pgpleA2lNjCw"
      }
    },
    {
      "cell_type": "code",
      "source": [
        "import pandas as pd\n",
        "import numpy as np\n",
        "from sklearn.model_selection import train_test_split\n",
        "from sklearn.preprocessing import StandardScaler\n",
        "from sklearn.svm import SVC\n",
        "from sklearn.neighbors import KNeighborsClassifier\n",
        "from sklearn.metrics import classification_report, accuracy_score\n",
        "\n",
        "csv_file = \"final_features.csv\"\n",
        "data = pd.read_csv(csv_file)\n",
        "\n",
        "X = data.drop(columns=['id', 'label']).values\n",
        "y = data['label'].values\n",
        "\n",
        "X_train, X_test, y_train, y_test = train_test_split(X, y, test_size=0.2, random_state=42)\n",
        "\n",
        "scaler = StandardScaler()\n",
        "X_train_scaled = scaler.fit_transform(X_train)\n",
        "X_test_scaled = scaler.transform(X_test)\n",
        "\n",
        "svm = SVC(kernel='rbf', C=1, gamma='scale')\n",
        "svm.fit(X_train_scaled, y_train)\n",
        "y_pred_svm = svm.predict(X_test_scaled)\n",
        "print(\"=== SVM Results ===\")\n",
        "print(\"Accuracy:\", accuracy_score(y_test, y_pred_svm))\n",
        "print(classification_report(y_test, y_pred_svm))\n",
        "\n",
        "knn = KNeighborsClassifier(n_neighbors=5)\n",
        "knn.fit(X_train_scaled, y_train)\n",
        "y_pred_knn = knn.predict(X_test_scaled)\n",
        "print(\"\\n=== kNN Results ===\")\n",
        "print(\"Accuracy:\", accuracy_score(y_test, y_pred_knn))\n",
        "print(classification_report(y_test, y_pred_knn))"
      ],
      "metadata": {
        "colab": {
          "base_uri": "https://localhost:8080/"
        },
        "id": "v88YxSq7_jDl",
        "outputId": "164ef131-d9e5-454e-84e0-a67bd422ac1b"
      },
      "execution_count": null,
      "outputs": [
        {
          "output_type": "stream",
          "name": "stdout",
          "text": [
            "=== SVM Results ===\n",
            "Accuracy: 0.9409571162212554\n",
            "              precision    recall  f1-score   support\n",
            "\n",
            "           0       0.94      1.00      0.97      1462\n",
            "           1       0.98      0.36      0.53       147\n",
            "\n",
            "    accuracy                           0.94      1609\n",
            "   macro avg       0.96      0.68      0.75      1609\n",
            "weighted avg       0.94      0.94      0.93      1609\n",
            "\n",
            "\n",
            "=== kNN Results ===\n",
            "Accuracy: 0.930391547545059\n",
            "              precision    recall  f1-score   support\n",
            "\n",
            "           0       0.93      0.99      0.96      1462\n",
            "           1       0.83      0.30      0.44       147\n",
            "\n",
            "    accuracy                           0.93      1609\n",
            "   macro avg       0.88      0.65      0.70      1609\n",
            "weighted avg       0.92      0.93      0.92      1609\n",
            "\n"
          ]
        }
      ]
    },
    {
      "cell_type": "markdown",
      "source": [
        "**CNN**"
      ],
      "metadata": {
        "id": "PoyWZ057Qjfv"
      }
    },
    {
      "cell_type": "code",
      "source": [
        "from tensorflow.keras.models import Sequential\n",
        "from tensorflow.keras.layers import Conv1D, MaxPooling1D, Flatten, Dense\n",
        "\n",
        "model = Sequential([\n",
        "    Conv1D(64, 3, activation='relu', input_shape=(X_padded.shape[1], X_padded.shape[2])),\n",
        "    MaxPooling1D(2),\n",
        "    Flatten(),\n",
        "    Dense(64, activation='relu'),\n",
        "    Dense(1, activation='sigmoid')\n",
        "])\n",
        "\n",
        "model.compile(optimizer='adam', loss='binary_crossentropy', metrics=['accuracy'])\n",
        "\n",
        "model.fit(X_padded, y, epochs=10, batch_size=32, validation_split=0.2)"
      ],
      "metadata": {
        "colab": {
          "base_uri": "https://localhost:8080/"
        },
        "id": "bXdxh-IP7z80",
        "outputId": "384c956f-3754-4127-ae66-2f8d68e11fee"
      },
      "execution_count": null,
      "outputs": [
        {
          "output_type": "stream",
          "name": "stderr",
          "text": [
            "/usr/local/lib/python3.11/dist-packages/keras/src/layers/convolutional/base_conv.py:107: UserWarning: Do not pass an `input_shape`/`input_dim` argument to a layer. When using Sequential models, prefer using an `Input(shape)` object as the first layer in the model instead.\n",
            "  super().__init__(activity_regularizer=activity_regularizer, **kwargs)\n"
          ]
        },
        {
          "output_type": "stream",
          "name": "stdout",
          "text": [
            "Epoch 1/10\n",
            "\u001b[1m27/27\u001b[0m \u001b[32m━━━━━━━━━━━━━━━━━━━━\u001b[0m\u001b[37m\u001b[0m \u001b[1m14s\u001b[0m 447ms/step - accuracy: 0.5949 - loss: 3.4423 - val_accuracy: 0.8732 - val_loss: 0.6860\n",
            "Epoch 2/10\n",
            "\u001b[1m27/27\u001b[0m \u001b[32m━━━━━━━━━━━━━━━━━━━━\u001b[0m\u001b[37m\u001b[0m \u001b[1m19s\u001b[0m 400ms/step - accuracy: 0.8903 - loss: 0.2903 - val_accuracy: 0.8638 - val_loss: 0.3779\n",
            "Epoch 3/10\n",
            "\u001b[1m27/27\u001b[0m \u001b[32m━━━━━━━━━━━━━━━━━━━━\u001b[0m\u001b[37m\u001b[0m \u001b[1m21s\u001b[0m 420ms/step - accuracy: 0.9577 - loss: 0.1118 - val_accuracy: 0.9061 - val_loss: 0.2806\n",
            "Epoch 4/10\n",
            "\u001b[1m27/27\u001b[0m \u001b[32m━━━━━━━━━━━━━━━━━━━━\u001b[0m\u001b[37m\u001b[0m \u001b[1m20s\u001b[0m 419ms/step - accuracy: 0.9987 - loss: 0.0358 - val_accuracy: 0.9108 - val_loss: 0.2657\n",
            "Epoch 5/10\n",
            "\u001b[1m27/27\u001b[0m \u001b[32m━━━━━━━━━━━━━━━━━━━━\u001b[0m\u001b[37m\u001b[0m \u001b[1m19s\u001b[0m 372ms/step - accuracy: 1.0000 - loss: 0.0195 - val_accuracy: 0.9014 - val_loss: 0.2642\n",
            "Epoch 6/10\n",
            "\u001b[1m27/27\u001b[0m \u001b[32m━━━━━━━━━━━━━━━━━━━━\u001b[0m\u001b[37m\u001b[0m \u001b[1m27s\u001b[0m 604ms/step - accuracy: 1.0000 - loss: 0.0096 - val_accuracy: 0.9014 - val_loss: 0.2652\n",
            "Epoch 7/10\n",
            "\u001b[1m27/27\u001b[0m \u001b[32m━━━━━━━━━━━━━━━━━━━━\u001b[0m\u001b[37m\u001b[0m \u001b[1m14s\u001b[0m 372ms/step - accuracy: 1.0000 - loss: 0.0061 - val_accuracy: 0.9061 - val_loss: 0.2750\n",
            "Epoch 8/10\n",
            "\u001b[1m27/27\u001b[0m \u001b[32m━━━━━━━━━━━━━━━━━━━━\u001b[0m\u001b[37m\u001b[0m \u001b[1m11s\u001b[0m 401ms/step - accuracy: 1.0000 - loss: 0.0044 - val_accuracy: 0.8967 - val_loss: 0.2727\n",
            "Epoch 9/10\n",
            "\u001b[1m27/27\u001b[0m \u001b[32m━━━━━━━━━━━━━━━━━━━━\u001b[0m\u001b[37m\u001b[0m \u001b[1m21s\u001b[0m 412ms/step - accuracy: 1.0000 - loss: 0.0031 - val_accuracy: 0.8967 - val_loss: 0.2734\n",
            "Epoch 10/10\n",
            "\u001b[1m27/27\u001b[0m \u001b[32m━━━━━━━━━━━━━━━━━━━━\u001b[0m\u001b[37m\u001b[0m \u001b[1m11s\u001b[0m 418ms/step - accuracy: 1.0000 - loss: 0.0021 - val_accuracy: 0.9014 - val_loss: 0.2764\n"
          ]
        },
        {
          "output_type": "execute_result",
          "data": {
            "text/plain": [
              "<keras.src.callbacks.history.History at 0x7dbead44a450>"
            ]
          },
          "metadata": {},
          "execution_count": 43
        }
      ]
    },
    {
      "cell_type": "markdown",
      "source": [
        "**mCNN**"
      ],
      "metadata": {
        "id": "i5rYefpUQhEA"
      }
    },
    {
      "cell_type": "code",
      "source": [
        "from tensorflow.keras.models import Model\n",
        "from tensorflow.keras.layers import Input, Conv1D, MaxPooling1D, Flatten, Dense, Concatenate, Dropout\n",
        "\n",
        "input_layer = Input(shape=(X_padded.shape[1], X_padded.shape[2]))  # (max_len, 20)\n",
        "\n",
        "conv3 = Conv1D(64, 3, activation='relu', padding='same')(input_layer)\n",
        "pool3 = MaxPooling1D(2)(conv3)\n",
        "flat3 = Flatten()(pool3)\n",
        "\n",
        "conv5 = Conv1D(64, 5, activation='relu', padding='same')(input_layer)\n",
        "pool5 = MaxPooling1D(2)(conv5)\n",
        "flat5 = Flatten()(pool5)\n",
        "\n",
        "conv7 = Conv1D(64, 7, activation='relu', padding='same')(input_layer)\n",
        "pool7 = MaxPooling1D(2)(conv7)\n",
        "flat7 = Flatten()(pool7)\n",
        "\n",
        "merged = Concatenate()([flat3, flat5, flat7])\n",
        "\n",
        "dense = Dense(128, activation='relu')(merged)\n",
        "dropout = Dropout(0.5)(dense)\n",
        "output = Dense(1, activation='sigmoid')(dropout)\n",
        "\n",
        "model = Model(inputs=input_layer, outputs=output)\n",
        "model.compile(optimizer='adam', loss='binary_crossentropy', metrics=['accuracy'])\n",
        "\n",
        "model.fit(X_padded, y, epochs=10, batch_size=32, validation_split=0.2)"
      ],
      "metadata": {
        "colab": {
          "base_uri": "https://localhost:8080/"
        },
        "id": "A3KI32AU_e82",
        "outputId": "419f4a5f-a32d-465c-ab3e-662902024ee6"
      },
      "execution_count": null,
      "outputs": [
        {
          "output_type": "stream",
          "name": "stdout",
          "text": [
            "Epoch 1/10\n",
            "\u001b[1m27/27\u001b[0m \u001b[32m━━━━━━━━━━━━━━━━━━━━\u001b[0m\u001b[37m\u001b[0m \u001b[1m66s\u001b[0m 2s/step - accuracy: 0.7033 - loss: 17.2546 - val_accuracy: 0.0000e+00 - val_loss: 4.3995\n",
            "Epoch 2/10\n",
            "\u001b[1m27/27\u001b[0m \u001b[32m━━━━━━━━━━━━━━━━━━━━\u001b[0m\u001b[37m\u001b[0m \u001b[1m69s\u001b[0m 2s/step - accuracy: 0.7551 - loss: 0.5901 - val_accuracy: 0.1268 - val_loss: 1.3326\n",
            "Epoch 3/10\n",
            "\u001b[1m27/27\u001b[0m \u001b[32m━━━━━━━━━━━━━━━━━━━━\u001b[0m\u001b[37m\u001b[0m \u001b[1m51s\u001b[0m 2s/step - accuracy: 0.7922 - loss: 0.6956 - val_accuracy: 0.0000e+00 - val_loss: 2.1421\n",
            "Epoch 4/10\n",
            "\u001b[1m27/27\u001b[0m \u001b[32m━━━━━━━━━━━━━━━━━━━━\u001b[0m\u001b[37m\u001b[0m \u001b[1m49s\u001b[0m 2s/step - accuracy: 0.8141 - loss: 0.5143 - val_accuracy: 0.0000e+00 - val_loss: 2.2587\n",
            "Epoch 5/10\n",
            "\u001b[1m27/27\u001b[0m \u001b[32m━━━━━━━━━━━━━━━━━━━━\u001b[0m\u001b[37m\u001b[0m \u001b[1m83s\u001b[0m 2s/step - accuracy: 0.8087 - loss: 0.5063 - val_accuracy: 0.0047 - val_loss: 1.8805\n",
            "Epoch 6/10\n",
            "\u001b[1m27/27\u001b[0m \u001b[32m━━━━━━━━━━━━━━━━━━━━\u001b[0m\u001b[37m\u001b[0m \u001b[1m82s\u001b[0m 2s/step - accuracy: 0.8301 - loss: 0.4049 - val_accuracy: 0.0047 - val_loss: 1.8362\n",
            "Epoch 7/10\n",
            "\u001b[1m27/27\u001b[0m \u001b[32m━━━━━━━━━━━━━━━━━━━━\u001b[0m\u001b[37m\u001b[0m \u001b[1m82s\u001b[0m 2s/step - accuracy: 0.8316 - loss: 0.3467 - val_accuracy: 0.0188 - val_loss: 1.8465\n",
            "Epoch 8/10\n",
            "\u001b[1m27/27\u001b[0m \u001b[32m━━━━━━━━━━━━━━━━━━━━\u001b[0m\u001b[37m\u001b[0m \u001b[1m54s\u001b[0m 2s/step - accuracy: 0.8103 - loss: 0.3920 - val_accuracy: 0.0047 - val_loss: 1.9064\n",
            "Epoch 9/10\n",
            "\u001b[1m27/27\u001b[0m \u001b[32m━━━━━━━━━━━━━━━━━━━━\u001b[0m\u001b[37m\u001b[0m \u001b[1m51s\u001b[0m 2s/step - accuracy: 0.8200 - loss: 0.3247 - val_accuracy: 0.0047 - val_loss: 2.4450\n",
            "Epoch 10/10\n",
            "\u001b[1m27/27\u001b[0m \u001b[32m━━━━━━━━━━━━━━━━━━━━\u001b[0m\u001b[37m\u001b[0m \u001b[1m90s\u001b[0m 2s/step - accuracy: 0.8253 - loss: 0.3105 - val_accuracy: 0.0047 - val_loss: 2.4307\n"
          ]
        },
        {
          "output_type": "execute_result",
          "data": {
            "text/plain": [
              "<keras.src.callbacks.history.History at 0x7dbe94018250>"
            ]
          },
          "metadata": {},
          "execution_count": 52
        }
      ]
    }
  ]
}